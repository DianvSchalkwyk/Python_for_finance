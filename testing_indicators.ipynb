{
 "cells": [
  {
   "attachments": {},
   "cell_type": "markdown",
   "metadata": {},
   "source": [
    "# Test pandas_ta indicators"
   ]
  },
  {
   "attachments": {},
   "cell_type": "markdown",
   "metadata": {},
   "source": [
    "Import libraries"
   ]
  },
  {
   "cell_type": "code",
   "execution_count": null,
   "metadata": {},
   "outputs": [],
   "source": [
    "import pandas as pd\n",
    "import pandas_ta as ta\n",
    "import numpy as np\n",
    "from scipy.stats import linregress"
   ]
  },
  {
   "attachments": {},
   "cell_type": "markdown",
   "metadata": {},
   "source": [
    "Get USDJPY hourly data, starting 2021-01-01 to 2023-01-01"
   ]
  },
  {
   "cell_type": "code",
   "execution_count": null,
   "metadata": {},
   "outputs": [],
   "source": [
    "data = pd.read_csv(\"USDJPY_data.csv\")\n",
    "data.head()"
   ]
  },
  {
   "attachments": {},
   "cell_type": "markdown",
   "metadata": {},
   "source": [
    "Create and drop a dataframe that contains all the days with 0 volume, those are non trading days"
   ]
  },
  {
   "cell_type": "code",
   "execution_count": null,
   "metadata": {},
   "outputs": [],
   "source": [
    "data_with_zeros = data[data.Volume == 0].index\n",
    "data.drop(data_with_zeros, inplace=True)\n",
    "data.loc[data.Volume == 0]"
   ]
  },
  {
   "attachments": {},
   "cell_type": "markdown",
   "metadata": {},
   "source": [
    "Setup some indicators"
   ]
  },
  {
   "cell_type": "code",
   "execution_count": null,
   "metadata": {},
   "outputs": [],
   "source": [
    "data['ATR']     = data.ta.atr(length=20)\n",
    "data['RSI']     = data.ta.rsi()\n",
    "data['Average'] = data.ta.midprice(length=1) #midprice??\n",
    "data['MA40']    = data.ta.sma(length=40)\n",
    "data['MA80']    = data.ta.sma(length=80)\n",
    "data['MA160']   = data.ta.sma(length=160)\n",
    "\n",
    "def get_slope(array):\n",
    "    y = np.array(array)\n",
    "    x = np.arange(len(y))\n",
    "    \n",
    "    slope, intercept, r_value, p_value, std_err = linregress(x,y)\n",
    "    \n",
    "    return slope\n",
    "\n",
    "back_rolling_amount = 6\n",
    "\n",
    "data['MA40_slope']    = data['MA40'].rolling(window=back_rolling_amount).apply(get_slope, raw=True)\n",
    "data['MA80_slope']    = data['MA80'].rolling(window=back_rolling_amount).apply(get_slope, raw=True)\n",
    "data['MA160_slope']   = data['MA160'].rolling(window=back_rolling_amount).apply(get_slope, raw=True)\n",
    "data['Average_slope'] = data['Average'].rolling(window=back_rolling_amount).apply(get_slope, raw=True)\n",
    "data['RSI_slope']     = data['RSI'].rolling(window=back_rolling_amount).apply(get_slope, raw=True)\n",
    "\n",
    "data.tail()"
   ]
  },
  {
   "attachments": {},
   "cell_type": "markdown",
   "metadata": {},
   "source": [
    "Set take profit and stop loss"
   ]
  },
  {
   "cell_type": "code",
   "execution_count": 5,
   "metadata": {},
   "outputs": [],
   "source": [
    "pipdiff = 450*1e-5\n",
    "SLTPRatio = 2"
   ]
  },
  {
   "cell_type": "code",
   "execution_count": null,
   "metadata": {},
   "outputs": [],
   "source": [
    "def mytarget(barsupfront, data):\n",
    "    length = len(data)\n",
    "    high = list(data['High'])\n",
    "    low = list(data['Low'])\n",
    "    close = list(data['Close'])\n",
    "    open = list(data['Open'])\n",
    "    trendcat = [None] * length\n",
    "    \n",
    "    for line in range (0, length-barsupfront-2):\n",
    "        value_open_low = 0\n",
    "        value_open_high = 0\n",
    "        "
   ]
  }
 ],
 "metadata": {
  "kernelspec": {
   "display_name": "Python 3",
   "language": "python",
   "name": "python3"
  },
  "language_info": {
   "codemirror_mode": {
    "name": "ipython",
    "version": 3
   },
   "file_extension": ".py",
   "mimetype": "text/x-python",
   "name": "python",
   "nbconvert_exporter": "python",
   "pygments_lexer": "ipython3",
   "version": "3.11.1"
  },
  "orig_nbformat": 4,
  "vscode": {
   "interpreter": {
    "hash": "688fad7caa0d792123cfd0fde81b19410e644b1282e722837896bc0780418fb6"
   }
  }
 },
 "nbformat": 4,
 "nbformat_minor": 2
}
