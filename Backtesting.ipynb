{
 "cells": [
  {
   "attachments": {},
   "cell_type": "markdown",
   "metadata": {},
   "source": [
    "# Backtesting with backtesting.py"
   ]
  },
  {
   "cell_type": "code",
   "execution_count": 1,
   "metadata": {},
   "outputs": [],
   "source": [
    "from backtesting import Backtest, Strategy\n",
    "from backtesting.test import GOOG\n",
    "from backtesting.lib import crossover\n",
    "import talib"
   ]
  },
  {
   "attachments": {},
   "cell_type": "markdown",
   "metadata": {},
   "source": [
    "Create a strategy to test"
   ]
  },
  {
   "cell_type": "code",
   "execution_count": 2,
   "metadata": {},
   "outputs": [],
   "source": [
    "class RsiOscillator(Strategy):\n",
    "    \n",
    "    upper_bound = 70\n",
    "    lower_bound = 30\n",
    "    rsi_window  = 14\n",
    "    \n",
    "    def init(self):\n",
    "        self.rsi = self.I(talib.RSI, self.data.Close, self.rsi_window)\n",
    "\n",
    "    def next(self):\n",
    "        \n",
    "        price = self.data.Close[-1]\n",
    "        \n",
    "        if crossover(self.rsi, self.upper_bound):\n",
    "            self.position.close()\n",
    "            \n",
    "        elif crossover(self.lower_bound, self.rsi):\n",
    "            self.buy(tp=1.10*price, sl=0.95*price)"
   ]
  },
  {
   "attachments": {},
   "cell_type": "markdown",
   "metadata": {},
   "source": [
    "Settings"
   ]
  },
  {
   "cell_type": "code",
   "execution_count": 3,
   "metadata": {},
   "outputs": [],
   "source": [
    "bt = Backtest(GOOG, RsiOscillator, cash=10_000, commission=.001)"
   ]
  },
  {
   "attachments": {},
   "cell_type": "markdown",
   "metadata": {},
   "source": [
    "Stats before optimization"
   ]
  },
  {
   "cell_type": "code",
   "execution_count": 4,
   "metadata": {},
   "outputs": [
    {
     "name": "stdout",
     "output_type": "stream",
     "text": [
      "Start                     2004-08-19 00:00:00\n",
      "End                       2013-03-01 00:00:00\n",
      "Duration                   3116 days 00:00:00\n",
      "Exposure Time [%]                   14.757914\n",
      "Equity Final [$]                  12269.65689\n",
      "Equity Peak [$]                   12269.65689\n",
      "Return [%]                          22.696569\n",
      "Buy & Hold Return [%]              703.458242\n",
      "Return (Ann.) [%]                    2.428705\n",
      "Volatility (Ann.) [%]               12.197174\n",
      "Sharpe Ratio                          0.19912\n",
      "Sortino Ratio                        0.334153\n",
      "Calmar Ratio                         0.117019\n",
      "Max. Drawdown [%]                  -20.754737\n",
      "Avg. Drawdown [%]                   -7.365631\n",
      "Max. Drawdown Duration      938 days 00:00:00\n",
      "Avg. Drawdown Duration      218 days 00:00:00\n",
      "# Trades                                   25\n",
      "Win Rate [%]                             40.0\n",
      "Best Trade [%]                       11.00239\n",
      "Worst Trade [%]                     -6.276095\n",
      "Avg. Trade [%]                       0.825393\n",
      "Max. Trade Duration          56 days 00:00:00\n",
      "Avg. Trade Duration          18 days 00:00:00\n",
      "Profit Factor                        1.406582\n",
      "Expectancy [%]                       1.045154\n",
      "SQN                                  0.684332\n",
      "_strategy                       RsiOscillator\n",
      "_equity_curve                             ...\n",
      "_trades                       Size  EntryB...\n",
      "dtype: object\n"
     ]
    }
   ],
   "source": [
    "stats = bt.run()\n",
    "print(stats)\n",
    "#bt.plot()"
   ]
  },
  {
   "attachments": {},
   "cell_type": "markdown",
   "metadata": {},
   "source": [
    "Stats after optimization"
   ]
  },
  {
   "cell_type": "code",
   "execution_count": 5,
   "metadata": {},
   "outputs": [
    {
     "data": {
      "application/vnd.jupyter.widget-view+json": {
       "model_id": "ce004207c8fd458882e12c2741774e89",
       "version_major": 2,
       "version_minor": 0
      },
      "text/plain": [
       "  0%|          | 0/13 [00:00<?, ?it/s]"
      ]
     },
     "metadata": {},
     "output_type": "display_data"
    },
    {
     "name": "stdout",
     "output_type": "stream",
     "text": [
      "Start                     2004-08-19 00:00:00\n",
      "End                       2013-03-01 00:00:00\n",
      "Duration                   3116 days 00:00:00\n",
      "Exposure Time [%]                    5.493482\n",
      "Equity Final [$]                  12924.78887\n",
      "Equity Peak [$]                   13210.26087\n",
      "Return [%]                          29.247889\n",
      "Buy & Hold Return [%]              703.458242\n",
      "Return (Ann.) [%]                    3.055702\n",
      "Volatility (Ann.) [%]                9.238682\n",
      "Sharpe Ratio                         0.330751\n",
      "Sortino Ratio                        0.499987\n",
      "Calmar Ratio                         0.177524\n",
      "Max. Drawdown [%]                   -17.21287\n",
      "Avg. Drawdown [%]                   -4.453383\n",
      "Max. Drawdown Duration      700 days 00:00:00\n",
      "Avg. Drawdown Duration      110 days 00:00:00\n",
      "# Trades                                    8\n",
      "Win Rate [%]                             62.5\n",
      "Best Trade [%]                      10.868892\n",
      "Worst Trade [%]                     -6.835653\n",
      "Avg. Trade [%]                       3.334413\n",
      "Max. Trade Duration          38 days 00:00:00\n",
      "Avg. Trade Duration          20 days 00:00:00\n",
      "Profit Factor                        2.492864\n",
      "Expectancy [%]                       3.642883\n",
      "SQN                                  1.178695\n",
      "_strategy                 RsiOscillator(up...\n",
      "_equity_curve                             ...\n",
      "_trades                      Size  EntryBa...\n",
      "dtype: object\n"
     ]
    }
   ],
   "source": [
    "stats = bt.optimize(\n",
    "    upper_bound = range(70,81,1),\n",
    "    lower_bound = range(20,31,1),\n",
    "    maximize='Return [%]'\n",
    ")\n",
    "\n",
    "print(stats)"
   ]
  },
  {
   "attachments": {},
   "cell_type": "markdown",
   "metadata": {},
   "source": [
    "Which settings where the best for prioritizing Return %?"
   ]
  },
  {
   "cell_type": "code",
   "execution_count": 6,
   "metadata": {},
   "outputs": [
    {
     "data": {
      "text/plain": [
       "(70, 25, 14)"
      ]
     },
     "execution_count": 6,
     "metadata": {},
     "output_type": "execute_result"
    }
   ],
   "source": [
    "strategy = stats[\"_strategy\"]\n",
    "\n",
    "strategy.upper_bound, strategy.lower_bound, strategy.rsi_window"
   ]
  },
  {
   "attachments": {},
   "cell_type": "markdown",
   "metadata": {},
   "source": [
    "Show all the trades made"
   ]
  },
  {
   "cell_type": "code",
   "execution_count": 7,
   "metadata": {},
   "outputs": [
    {
     "name": "stdout",
     "output_type": "stream",
     "text": [
      "   Size  EntryBar  ExitBar  EntryPrice  ExitPrice         PnL  ReturnPct  EntryTime   ExitTime Duration\n",
      "0    17       863      869   559.35880    521.189  -648.88660  -0.068238 2008-01-24 2008-02-01   8 days\n",
      "1    19       871      885   489.91943    461.200  -545.66917  -0.058621 2008-02-05 2008-02-26  21 days\n",
      "2    20       893      912   429.30888    475.970   933.22240   0.108689 2008-03-07 2008-04-04  28 days\n",
      "3    22      1021     1029   423.59317    461.945   843.74026   0.090539 2008-09-09 2008-09-19  10 days\n",
      "4    19      1372     1399   535.13460    582.934   908.18860   0.089322 2010-02-01 2010-03-11  38 days\n",
      "5    26      1480     1484   438.74831    482.250  1131.04394   0.099150 2010-07-07 2010-07-13   6 days\n",
      "6    22      1656     1678   565.04448    526.420  -849.73856  -0.068357 2011-03-17 2011-04-18  32 days\n",
      "7    24      1721     1731   485.48500    533.522  1152.88800   0.098946 2011-06-20 2011-07-05  15 days\n"
     ]
    }
   ],
   "source": [
    "print(stats['_trades'].to_string())"
   ]
  }
 ],
 "metadata": {
  "kernelspec": {
   "display_name": "base",
   "language": "python",
   "name": "python3"
  },
  "language_info": {
   "codemirror_mode": {
    "name": "ipython",
    "version": 3
   },
   "file_extension": ".py",
   "mimetype": "text/x-python",
   "name": "python",
   "nbconvert_exporter": "python",
   "pygments_lexer": "ipython3",
   "version": "3.9.13"
  },
  "orig_nbformat": 4,
  "vscode": {
   "interpreter": {
    "hash": "699095cde074ce2c908f056ab98e01a0a8a695ea3857c547be31562c7b4b06ad"
   }
  }
 },
 "nbformat": 4,
 "nbformat_minor": 2
}
